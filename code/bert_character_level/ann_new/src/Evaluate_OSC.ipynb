{
 "cells": [
  {
   "cell_type": "markdown",
   "id": "charged-contributor",
   "metadata": {},
   "source": [
    "# Evaluate on OSC task"
   ]
  },
  {
   "cell_type": "code",
   "execution_count": 1,
   "id": "coated-maldives",
   "metadata": {},
   "outputs": [],
   "source": [
    "import pickle\n",
    "import torch\n",
    "import torch.distributed as dist\n",
    "import torch.multiprocessing as mp\n",
    "import numpy as np\n",
    "from sklearn.metrics import accuracy_score, f1_score, precision_score, recall_score, roc_curve\n",
    "\n",
    "import cs\n",
    "from tools.utils import to_device, get_test_set_loader\n",
    "from tasks.bert_classifier.utils import get_model, get_test_set, get_osc_set\n",
    "from tasks.bert_classifier.train import train\n",
    "from tasks.bert_classifier.predict_new import bert_classifier_predict, bert_classifier_validation, bert_classifier_predict_new\n",
    "from tasks.bert_classifier.predict_new import bert_classifier_test_detail, bert_classifier_test_detail_result"
   ]
  },
  {
   "cell_type": "code",
   "execution_count": 2,
   "id": "caring-intervention",
   "metadata": {},
   "outputs": [],
   "source": [
    "id_to_cls = pickle.load(open('/home/jxqi/ACL/experiment/ann/dataset/id_to_cls.pkl', 'rb'))\n",
    "cls_to_id = { v:k for k,v in id_to_cls.items() }"
   ]
  },
  {
   "cell_type": "markdown",
   "id": "productive-remainder",
   "metadata": {},
   "source": [
    "## Load model"
   ]
  },
  {
   "cell_type": "code",
   "execution_count": 3,
   "id": "experienced-bennett",
   "metadata": {},
   "outputs": [],
   "source": [
    "model = get_model(last_training_time=1622731763, last_step='02971')"
   ]
  },
  {
   "cell_type": "code",
   "execution_count": 4,
   "id": "dangerous-brand",
   "metadata": {},
   "outputs": [],
   "source": [
    "save_test_root = '/home/datamerge/ACL/Data/210422/test/'\n",
    "save_pkl_root = '/home/datamerge/ACL/Data/210422/pkl/'\n",
    "\n",
    "osc_filepath = save_test_root+'osc.txt'\n",
    "nor2len_dict = pickle.load(open(save_pkl_root+'210422_nor2len_dict.pkl', 'rb'))"
   ]
  },
  {
   "cell_type": "code",
   "execution_count": 5,
   "id": "possible-hours",
   "metadata": {},
   "outputs": [],
   "source": [
    "osc_dataset = get_osc_set(osc_filepath)"
   ]
  },
  {
   "cell_type": "code",
   "execution_count": 6,
   "id": "growing-submission",
   "metadata": {},
   "outputs": [
    {
     "name": "stderr",
     "output_type": "stream",
     "text": [
      "100%|██████████| 402/402 [07:59<00:00,  1.19s/it]\n"
     ]
    },
    {
     "name": "stdout",
     "output_type": "stream",
     "text": [
      "(102674,) (102674,) (102674,)\n"
     ]
    }
   ],
   "source": [
    "pred, true, prob = bert_classifier_predict_new(model, osc_dataset)"
   ]
  },
  {
   "cell_type": "code",
   "execution_count": 10,
   "id": "unavailable-upgrade",
   "metadata": {},
   "outputs": [],
   "source": [
    "osc_length = []\n",
    "with open(osc_filepath, 'r', encoding='utf-8') as f:\n",
    "    for line in f:\n",
    "        ori, nor, open_label = line.replace(\"\\n\", \"\").split(\"\\t\\t\")\n",
    "        length = nor2len_dict[nor]\n",
    "        osc_length.append(length)\n",
    "    f.close()"
   ]
  },
  {
   "cell_type": "code",
   "execution_count": 12,
   "id": "attractive-increase",
   "metadata": {},
   "outputs": [],
   "source": [
    "def report_osc(y, scores):\n",
    "    fpr, tpr, thresholds = roc_curve(y, scores)  \n",
    "    return fpr, tpr, thresholds\n",
    "\n",
    "\n",
    "def calc_split(low_margin, high_margin, y, scores, test_set_size):\n",
    "    low = test_set_size < low_margin\n",
    "    high = test_set_size > high_margin\n",
    "    mid = np.logical_and(test_set_size >= low_margin, test_set_size <= high_margin)\n",
    "\n",
    "    r1 = report_osc(y[high], scores[high])\n",
    "    r2 = report_osc(y[mid], scores[mid])\n",
    "    r3 = report_osc(y[low], scores[low])\n",
    "    \n",
    "    return r1, r2, r3"
   ]
  },
  {
   "cell_type": "code",
   "execution_count": 13,
   "id": "instrumental-precipitation",
   "metadata": {},
   "outputs": [],
   "source": [
    "def evaluate_osc(true, probs, osc_length):\n",
    "    '''\n",
    "    Input:\n",
    "        true: true label value， like an array([   -1,    -1,    -1,  6739, 20992,    -1,    -1, 20206,    -1,   -1]), note that -1 here are denoted open test set\n",
    "        probs: The predicted probability value of the category (that is, the probability value of the category with the highest predicted probability value)\n",
    "        osc_length: The number of variations in the category of each sample used to differentiate the performance of the various sections of the statistics (High, Middle, Few)\n",
    "    Output:\n",
    "        (\n",
    "            overall, :a dict contain overall performance, it includes two keys named 'tpr' and 'fpr'\n",
    "            part, :a dict contain performance of different subset \n",
    "        )\n",
    "    '''\n",
    "    open_labels = true < 0\n",
    "    probability = 1 - probs\n",
    "    test_set_size = np.array(osc_length)\n",
    "    \n",
    "    fpr, tpr, thresholds = report_osc(open_labels, probability)\n",
    "    overall = {\n",
    "        'fpr': fpr,\n",
    "        'tpr': tpr,\n",
    "    }\n",
    "    high, middle, few = calc_split(5, 20, open_labels, probability, test_set_size)\n",
    "    part = {\n",
    "        'high':{\n",
    "            'fpr': high[0],\n",
    "            'tpr': high[1],\n",
    "        },\n",
    "        'middle':{\n",
    "            'fpr': middle[0],\n",
    "            'tpr': middle[1],\n",
    "        }, \n",
    "        'few':{\n",
    "            'fpr': few[0],\n",
    "            'tpr': few[1],\n",
    "        },     \n",
    "    }\n",
    "    return (overall, part)"
   ]
  },
  {
   "cell_type": "code",
   "execution_count": 14,
   "id": "beneficial-multiple",
   "metadata": {},
   "outputs": [],
   "source": [
    "overall, part = evaluate_osc(true, prob, osc_length)"
   ]
  },
  {
   "cell_type": "code",
   "execution_count": 15,
   "id": "driven-cocktail",
   "metadata": {},
   "outputs": [
    {
     "data": {
      "image/png": "[encoded data removed]",
      "text/plain": [
       "<Figure size 432x288 with 1 Axes>"
      ]
     },
     "metadata": {
      "needs_background": "light"
     },
     "output_type": "display_data"
    }
   ],
   "source": [
    "from matplotlib import pyplot as plt\n",
    "\n",
    "plt.plot(overall['fpr'], overall['tpr'], label=\"BERT Overall\",  linewidth=3, linestyle='-')\n",
    "plt.show()"
   ]
  },
  {
   "cell_type": "code",
   "execution_count": 16,
   "id": "steady-rebecca",
   "metadata": {},
   "outputs": [
    {
     "data": {
      "image/png": "[encoded data removed]",
      "text/plain": [
       "<Figure size 432x288 with 1 Axes>"
      ]
     },
     "metadata": {
      "needs_background": "light"
     },
     "output_type": "display_data"
    }
   ],
   "source": [
    "plt.plot(part['high']['fpr'], part['high']['tpr'], label=\"BERT High\",  linewidth=3, linestyle='-')\n",
    "plt.show()"
   ]
  },
  {
   "cell_type": "code",
   "execution_count": 17,
   "id": "overall-character",
   "metadata": {},
   "outputs": [
    {
     "data": {
      "image/png": "[encoded data removed]",
      "text/plain": [
       "<Figure size 432x288 with 1 Axes>"
      ]
     },
     "metadata": {
      "needs_background": "light"
     },
     "output_type": "display_data"
    }
   ],
   "source": [
    "plt.plot(part['middle']['fpr'], part['middle']['tpr'], label=\"BERT Middle\",  linewidth=3, linestyle='-')\n",
    "plt.show()"
   ]
  },
  {
   "cell_type": "code",
   "execution_count": 18,
   "id": "smooth-personality",
   "metadata": {},
   "outputs": [
    {
     "data": {
      "image/png": "[encoded data removed]",
      "text/plain": [
       "<Figure size 432x288 with 1 Axes>"
      ]
     },
     "metadata": {
      "needs_background": "light"
     },
     "output_type": "display_data"
    }
   ],
   "source": [
    "plt.plot(part['few']['fpr'], part['few']['tpr'], label=\"BERT Few\",  linewidth=3, linestyle='-')\n",
    "plt.show()"
   ]
  },
  {
   "cell_type": "code",
   "execution_count": 19,
   "id": "african-major",
   "metadata": {},
   "outputs": [],
   "source": [
    "result = {\n",
    "    'overall': overall,\n",
    "    'part': part\n",
    "}"
   ]
  },
  {
   "cell_type": "code",
   "execution_count": 20,
   "id": "brave-aaron",
   "metadata": {},
   "outputs": [],
   "source": [
    "pickle.dump(result, open(\"./osc/cbert_rs3_osc.pkl\", \"wb\"))"
   ]
  },
  {
   "cell_type": "code",
   "execution_count": null,
   "id": "spectacular-resistance",
   "metadata": {},
   "outputs": [],
   "source": []
  }
 ],
 "metadata": {
  "kernelspec": {
   "display_name": "Python 3",
   "language": "python",
   "name": "python3"
  },
  "language_info": {
   "codemirror_mode": {
    "name": "ipython",
    "version": 3
   },
   "file_extension": ".py",
   "mimetype": "text/x-python",
   "name": "python",
   "nbconvert_exporter": "python",
   "pygments_lexer": "ipython3",
   "version": "3.8.8"
  }
 },
 "nbformat": 4,
 "nbformat_minor": 5
}
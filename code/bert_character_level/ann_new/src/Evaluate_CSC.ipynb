{
 "cells": [
  {
   "cell_type": "markdown",
   "id": "strategic-evanescence",
   "metadata": {},
   "source": [
    "# Evaluate on CSC task"
   ]
  },
  {
   "source": [
    "This script is used for reporting the performance of model on CSC task.\n",
    "In fact, the performance of model on CSC task is recorded in tensorboard.\n",
    "It is more convient to obtain the performance of model on CSC task from tensorboard curve."
   ],
   "cell_type": "markdown",
   "metadata": {}
  },
  {
   "cell_type": "code",
   "execution_count": 1,
   "id": "tracked-albany",
   "metadata": {},
   "outputs": [],
   "source": [
    "import pickle\n",
    "import torch\n",
    "import torch.distributed as dist\n",
    "import torch.multiprocessing as mp\n",
    "\n",
    "import cs\n",
    "from tools.utils import to_device, get_test_set_loader\n",
    "from tasks.bert_classifier.utils import get_model, get_test_set\n",
    "from tasks.bert_classifier.train import train\n",
    "from tasks.bert_classifier.predict_new import  bert_classifier_test_detail_result"
   ]
  },
  {
   "cell_type": "code",
   "execution_count": 7,
   "id": "speaking-biodiversity",
   "metadata": {},
   "outputs": [
    {
     "data": {
      "text/plain": [
       "25762"
      ]
     },
     "execution_count": 7,
     "metadata": {},
     "output_type": "execute_result"
    }
   ],
   "source": [
    "id_to_cls = pickle.load(open('/home/jxqi/ACL/experiment/ann/dataset/id_to_cls.pkl', 'rb'))\n",
    "cls_to_id = { v:k for k,v in id_to_cls.items() }\n",
    "\n",
    "with open('/home/datamerge/ACL/Data/210422/pkl/210422_nor2len_dict.pkl', 'rb') as f:\n",
    "    nor2len_dict = pickle.load(f)\n",
    "len(nor2len)\n",
    "\n",
    "with open('/home/datamerge/ACL/Data/210422/pkl/afid2nor.pkl', 'rb') as f:\n",
    "    afid2nor = pickle.load(f)\n",
    "len(afid2nor)"
   ]
  },
  {
   "cell_type": "code",
   "execution_count": 11,
   "id": "experienced-exercise",
   "metadata": {},
   "outputs": [],
   "source": [
    "model = get_model(last_training_time=1620965047, last_step=49780)"
   ]
  },
  {
   "cell_type": "code",
   "execution_count": 12,
   "id": "quick-incident",
   "metadata": {},
   "outputs": [
    {
     "name": "stderr",
     "output_type": "stream",
     "text": [
      "100%|██████████| 213/213 [00:45<00:00,  4.70it/s]\n"
     ]
    }
   ],
   "source": [
    "[(dev_overall, dev_part), (dev_true, dev_pred)] = bert_classifier_test_detail_result(model)"
   ]
  },
  {
   "cell_type": "code",
   "execution_count": 13,
   "id": "prime-drill",
   "metadata": {
    "collapsed": true,
    "jupyter": {
     "outputs_hidden": true
    },
    "tags": []
   },
   "outputs": [
    {
     "data": {
      "text/plain": [
       "({'accuracy': 84.41191057881299,\n",
       "  'f1': 83.80171003104006,\n",
       "  'precision': 84.30057254469607,\n",
       "  'recall': 84.41191057881299},\n",
       " {'high': {'accuracy': 89.3555786375833,\n",
       "   'precision': 92.04703208323485,\n",
       "   'recall': 89.3555786375833,\n",
       "   'f1': 90.24172054076975},\n",
       "  'middle': {'accuracy': 66.09040158472898,\n",
       "   'precision': 65.39558196770516,\n",
       "   'recall': 66.09040158472898,\n",
       "   'f1': 65.47348923361889},\n",
       "  'few': {'accuracy': 37.02318623784592,\n",
       "   'precision': 36.64921465968586,\n",
       "   'recall': 37.02318623784592,\n",
       "   'f1': 36.77387185240588}})"
      ]
     },
     "execution_count": 13,
     "metadata": {},
     "output_type": "execute_result"
    }
   ],
   "source": [
    "dev_overall, dev_part"
   ]
  },
  {
   "cell_type": "code",
   "execution_count": 14,
   "id": "classical-structure",
   "metadata": {},
   "outputs": [
    {
     "data": {
      "text/plain": [
       "58154"
      ]
     },
     "execution_count": 14,
     "metadata": {},
     "output_type": "execute_result"
    }
   ],
   "source": [
    "test_set = get_test_set()\n",
    "len(test_set)"
   ]
  },
  {
   "cell_type": "code",
   "execution_count": 15,
   "id": "determined-killing",
   "metadata": {},
   "outputs": [
    {
     "name": "stderr",
     "output_type": "stream",
     "text": [
      "100%|██████████| 228/228 [00:48<00:00,  4.71it/s]\n"
     ]
    }
   ],
   "source": [
    "[(test_overall, test_part), (test_true, test_pred)] = bert_classifier_test_detail_result(model, test_set=test_set)"
   ]
  },
  {
   "cell_type": "code",
   "execution_count": 16,
   "id": "vulnerable-hormone",
   "metadata": {
    "collapsed": true,
    "jupyter": {
     "outputs_hidden": true
    },
    "tags": []
   },
   "outputs": [
    {
     "data": {
      "text/plain": [
       "({'accuracy': 82.07689926746225,\n",
       "  'f1': 80.9711454224338,\n",
       "  'precision': 81.10467801154259,\n",
       "  'recall': 82.07689926746227},\n",
       " {'high': {'accuracy': 89.55103598922656,\n",
       "   'precision': 92.32332454941385,\n",
       "   'recall': 89.55103598922656,\n",
       "   'f1': 90.48181293589832},\n",
       "  'middle': {'accuracy': 66.15024319942353,\n",
       "   'precision': 65.49870894133188,\n",
       "   'recall': 66.15024319942353,\n",
       "   'f1': 65.558758181709},\n",
       "  'few': {'accuracy': 33.633027522935784,\n",
       "   'precision': 33.067278287461775,\n",
       "   'recall': 33.633027522935784,\n",
       "   'f1': 33.25382262996941}})"
      ]
     },
     "execution_count": 16,
     "metadata": {},
     "output_type": "execute_result"
    }
   ],
   "source": [
    "test_overall, test_part"
   ]
  },
  {
   "cell_type": "code",
   "execution_count": null,
   "id": "pleasant-logistics",
   "metadata": {},
   "outputs": [],
   "source": []
  }
 ],
 "metadata": {
  "kernelspec": {
   "display_name": "Python 3",
   "language": "python",
   "name": "python3"
  },
  "language_info": {
   "codemirror_mode": {
    "name": "ipython",
    "version": 3
   },
   "file_extension": ".py",
   "mimetype": "text/x-python",
   "name": "python",
   "nbconvert_exporter": "python",
   "pygments_lexer": "ipython3",
   "version": "3.8.8"
  },
  "toc-autonumbering": false
 },
 "nbformat": 4,
 "nbformat_minor": 5
}
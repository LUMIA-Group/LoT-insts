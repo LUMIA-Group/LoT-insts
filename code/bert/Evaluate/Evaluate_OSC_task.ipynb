{
 "cells": [
  {
   "cell_type": "markdown",
   "source": [
    "# Evaluate BERT for OSC"
   ],
   "metadata": {}
  },
  {
   "cell_type": "code",
   "execution_count": 1,
   "source": [
    "import torch\r\n",
    "import pickle\r\n",
    "import torch.nn as nn\r\n",
    "import torch.nn.functional as F\r\n",
    "import numpy as np\r\n",
    "from tqdm import tqdm\r\n",
    "from pprint import pprint\r\n",
    "from sklearn.model_selection import train_test_split\r\n",
    "from sklearn.metrics import accuracy_score, f1_score, precision_score, recall_score, roc_curve\r\n",
    "from transformers import Trainer, TrainingArguments\r\n",
    "from transformers import BertTokenizer, BertTokenizerFast, BertForSequenceClassification\r\n",
    "from transformers import AutoTokenizer, AutoModelForSequenceClassification\r\n",
    "from utils.data_helper import read_mag_file\r\n",
    "from utils.lazydataset import LazyTextMAG_OSC_Dataset"
   ],
   "outputs": [],
   "metadata": {}
  },
  {
   "cell_type": "code",
   "execution_count": 2,
   "source": [
    "save_pkl_root = '/home/datamerge/ACL/Data/210422/pkl/'\r\n",
    "save_train_root = '/home/datamerge/ACL/Data/210422/train/'\r\n",
    "save_test_root = '/home/datamerge/ACL/Data/210422/test/'\r\n",
    "save_open_root = '/home/datamerge/ACL/Data/210422/open/'\r\n",
    "save_dev_root = '/home/datamerge/ACL/Data/210422/dev/'\r\n",
    "\r\n",
    "afid2nor = pickle.load(open(save_pkl_root+\"afid2nor.pkl\", \"rb\"))\r\n",
    "nor2afid = pickle.load(open(save_pkl_root+\"nor2afid.pkl\", \"rb\"))"
   ],
   "outputs": [],
   "metadata": {}
  },
  {
   "cell_type": "code",
   "execution_count": 3,
   "source": [
    "overall_mid2label_dict = { i: nor for i, (afid, nor) in enumerate(afid2nor.items())}\r\n",
    "overall_label2mid_dict = { v: k for k,v in overall_mid2label_dict.items()}"
   ],
   "outputs": [],
   "metadata": {}
  },
  {
   "cell_type": "code",
   "execution_count": 4,
   "source": [
    "nor2len_dict = pickle.load(open(save_pkl_root+'210422_nor2len_dict.pkl', 'rb'))\r\n",
    "\r\n",
    "train_mid2label_dict = pickle.load(open(save_pkl_root+'train_mid2label_dict.pkl', 'rb'))\r\n",
    "train_label2mid_dict = pickle.load(open(save_pkl_root+'train_label2mid_dict.pkl', 'rb'))\r\n",
    "\r\n",
    "overall_mid2label_dict = pickle.load(open(save_pkl_root+'overall_mid2label_dict.pkl', 'rb'))\r\n",
    "overall_label2mid_dict = pickle.load(open(save_pkl_root+'overall_label2mid_dict.pkl', 'rb'))\r\n",
    "\r\n",
    "train_mid2overall_mid = {train_id: overall_label2mid_dict[train_label]  for train_id, train_label in train_mid2label_dict.items()}"
   ],
   "outputs": [],
   "metadata": {}
  },
  {
   "cell_type": "code",
   "execution_count": 5,
   "source": [
    "osc_filepath = save_test_root+'test_osc.txt'"
   ],
   "outputs": [],
   "metadata": {}
  },
  {
   "cell_type": "code",
   "execution_count": 6,
   "source": [
    "tokenizer = BertTokenizerFast.from_pretrained('bert-base-uncased')\r\n",
    "\r\n",
    "osc_test_dataset = LazyTextMAG_OSC_Dataset(tokenizer, osc_filepath, overall_label2mid_dict)"
   ],
   "outputs": [],
   "metadata": {}
  },
  {
   "cell_type": "code",
   "execution_count": 7,
   "source": [
    "device = torch.device('cuda:0') if torch.cuda.is_available() else torch.device('cpu')\r\n",
    "\r\n",
    "class BertForAffiliationNameNormalization(torch.nn.Module):\r\n",
    "    \r\n",
    "    def __init__(self, num_of_classes):\r\n",
    "        super(BertForAffiliationNameNormalization, self).__init__()\r\n",
    "        self.num_of_classes = num_of_classes\r\n",
    "        self.bert = BertModel.from_pretrained('bert-base-uncased').to(device)\r\n",
    "        self.dropout = nn.Dropout(p=0.1, inplace=False).to(device)\r\n",
    "        self.classifier = nn.Linear(self.bert.config.hidden_size, self.num_of_classes, bias=True).to(device)\r\n",
    "        \r\n",
    "        \r\n",
    "    def forward(self, input_ids, attention_mask):\r\n",
    "        pooled_out = self.bert(input_ids, attention_mask=attention_mask)\r\n",
    "        pooled_out = self.dropout(pooled_out[1])\r\n",
    "        logits = self.classifier(pooled_out)\r\n",
    "        \r\n",
    "        return logits"
   ],
   "outputs": [],
   "metadata": {}
  },
  {
   "cell_type": "code",
   "execution_count": 8,
   "source": [
    "model = torch.load('./checkpoint0422/After_epoch_79_bert.pkl')"
   ],
   "outputs": [],
   "metadata": {}
  },
  {
   "cell_type": "code",
   "execution_count": 9,
   "source": [
    "def report_osc(y, scores):\r\n",
    "    fpr, tpr, thresholds = roc_curve(y, scores)  \r\n",
    "    return fpr, tpr, thresholds\r\n",
    "\r\n",
    "\r\n",
    "def calc_split(low_margin, high_margin, y, scores, test_set_size):\r\n",
    "    low = test_set_size < low_margin\r\n",
    "    high = test_set_size > high_margin\r\n",
    "    mid = np.logical_and(test_set_size >= low_margin, test_set_size <= high_margin)\r\n",
    "\r\n",
    "    r1 = report_osc(y[high], scores[high])\r\n",
    "    r2 = report_osc(y[mid], scores[mid])\r\n",
    "    r3 = report_osc(y[low], scores[low])\r\n",
    "    \r\n",
    "    return r1, r2, r3"
   ],
   "outputs": [],
   "metadata": {}
  },
  {
   "cell_type": "code",
   "execution_count": 10,
   "source": [
    "def evaluate_osc(model, dataset, nor2len_dict, overall_mid2label_dict, threshold):\r\n",
    "    model.eval()\r\n",
    "    device = torch.device('cuda:0') if torch.cuda.is_available() else torch.device('cpu')\r\n",
    "#     model = nn.DataParallel(model, device_ids=[0,1,2,3])\r\n",
    "#     model.to(torch.device('cuda:1'))\r\n",
    "    \r\n",
    "    test_dataset = dataset\r\n",
    "    loader = torch.utils.data.DataLoader(test_dataset, batch_size=256)\r\n",
    "    true = []         \r\n",
    "    pred = []         \r\n",
    "    open_labels = []  \r\n",
    "    pred_open_labels = [] \r\n",
    "    probability = []  \r\n",
    "    test_set_size = []\r\n",
    "    \r\n",
    "    i = 0\r\n",
    "    for batch in tqdm(loader):\r\n",
    "        input_ids = torch.cat([i.reshape(1,-1) for i in batch['input_ids']], dim=0).to(device)\r\n",
    "        attention_mask = torch.cat([i.reshape(1,-1) for i in batch['attention_mask']], dim=0).to(device)\r\n",
    "        label = batch['label'].to(device)\r\n",
    "        open_label = batch['open_label'].to(device)\r\n",
    "        \r\n",
    "        logits = model(input_ids, attention_mask=attention_mask)\r\n",
    "        probs = F.softmax(logits, dim=1)\r\n",
    "#         print(probs)\r\n",
    "#         print(probs.shape)\r\n",
    "        max_prob = torch.max(probs, 1)[0]\r\n",
    "        preds = logits.argmax(-1).tolist()\r\n",
    "        preds = torch.tensor([train_mid2overall_mid[train_mid] for train_mid in preds])\r\n",
    "        \r\n",
    "        tmp_test_size = [nor2len_dict[overall_mid2label_dict[label_id.item()]]  for label_id in label]\r\n",
    "        test_set_size = test_set_size + tmp_test_size\r\n",
    "        \r\n",
    "        true.append(label.to(torch.device('cpu')))\r\n",
    "        open_labels.append(open_label.to(torch.device('cpu')))\r\n",
    "        pred.append(preds[:len(label)].to(torch.device('cpu')))\r\n",
    "        probability.append(max_prob.detach().to(torch.device('cpu')))\r\n",
    "\r\n",
    "    pred = torch.cat(pred).numpy()\r\n",
    "    true = torch.cat(true).numpy() \r\n",
    "    open_labels = torch.cat(open_labels).numpy()\r\n",
    "    probability = 1 - torch.cat(probability).numpy()\r\n",
    "    pred_open_labels = 1 - (probability >= threshold)\r\n",
    "    \r\n",
    "    test_set_size = np.array(test_set_size)\r\n",
    "    fpr, tpr, thresholds = report_osc(open_labels, probability)\r\n",
    "\r\n",
    "    overall = {\r\n",
    "        'fpr': fpr,\r\n",
    "        'tpr': tpr,\r\n",
    "    }\r\n",
    "    high, middle, few = calc_split(5, 20, open_labels, probability, test_set_size)\r\n",
    "    part = {\r\n",
    "        'high':{\r\n",
    "            'fpr': high[0],\r\n",
    "            'tpr': high[1],\r\n",
    "        },\r\n",
    "        'middle':{\r\n",
    "            'fpr': middle[0],\r\n",
    "            'tpr': middle[1],\r\n",
    "        }, \r\n",
    "        'few':{\r\n",
    "            'fpr': few[0],\r\n",
    "            'tpr': few[1],\r\n",
    "        },     \r\n",
    "    }\r\n",
    "    return (overall, part)"
   ],
   "outputs": [],
   "metadata": {
    "tags": []
   }
  },
  {
   "cell_type": "code",
   "execution_count": 11,
   "source": [
    "overall, part = evaluate_osc(model, osc_test_dataset, nor2len_dict, overall_mid2label_dict, 0.8)"
   ],
   "outputs": [
    {
     "output_type": "stream",
     "name": "stderr",
     "text": [
      "100%|██████████| 402/402 [03:41<00:00,  1.82it/s]\n"
     ]
    }
   ],
   "metadata": {}
  },
  {
   "cell_type": "code",
   "execution_count": 12,
   "source": [
    "from matplotlib import pyplot as plt\r\n",
    "\r\n",
    "plt.plot(overall['fpr'], overall['tpr'], label=\"BERT Overall\",  linewidth=3, linestyle='-')\r\n",
    "plt.show()"
   ],
   "outputs": [
    {
     "output_type": "display_data",
     "data": {
      "image/png": "[encoded data removed]",
      "text/plain": [
       "<Figure size 432x288 with 1 Axes>"
      ]
     },
     "metadata": {
      "needs_background": "light"
     }
    }
   ],
   "metadata": {}
  },
  {
   "cell_type": "code",
   "execution_count": 13,
   "source": [
    "plt.plot(part['high']['fpr'], part['high']['tpr'], label=\"BERT Overall\",  linewidth=3, linestyle='-')\r\n",
    "plt.show()"
   ],
   "outputs": [
    {
     "output_type": "display_data",
     "data": {
      "image/png": "[encoded data removed]",
      "text/plain": [
       "<Figure size 432x288 with 1 Axes>"
      ]
     },
     "metadata": {
      "needs_background": "light"
     }
    }
   ],
   "metadata": {}
  },
  {
   "cell_type": "code",
   "execution_count": 14,
   "source": [
    "plt.plot(part['middle']['fpr'], part['middle']['tpr'], label=\"BERT Overall\",  linewidth=3, linestyle='-')\r\n",
    "plt.show()"
   ],
   "outputs": [
    {
     "output_type": "display_data",
     "data": {
      "image/png": "[encoded data removed]",
      "text/plain": [
       "<Figure size 432x288 with 1 Axes>"
      ]
     },
     "metadata": {
      "needs_background": "light"
     }
    }
   ],
   "metadata": {}
  },
  {
   "cell_type": "code",
   "execution_count": 15,
   "source": [
    "plt.plot(part['few']['fpr'], part['few']['tpr'], label=\"BERT Overall\",  linewidth=3, linestyle='-')\r\n",
    "plt.show()"
   ],
   "outputs": [
    {
     "output_type": "display_data",
     "data": {
      "image/png": "[encoded data removed]",
      "text/plain": [
       "<Figure size 432x288 with 1 Axes>"
      ]
     },
     "metadata": {
      "needs_background": "light"
     }
    }
   ],
   "metadata": {}
  },
  {
   "cell_type": "code",
   "execution_count": 16,
   "source": [
    "result = {\r\n",
    "    'overall': overall,\r\n",
    "    'part': part\r\n",
    "}\r\n",
    "\r\n",
    "pickle.dump(result, open(\"./osc/osc_original.pkl\", 'wb'))"
   ],
   "outputs": [],
   "metadata": {}
  },
  {
   "cell_type": "code",
   "execution_count": null,
   "source": [],
   "outputs": [],
   "metadata": {}
  }
 ],
 "metadata": {
  "kernelspec": {
   "display_name": "Python 3",
   "language": "python",
   "name": "python3"
  },
  "language_info": {
   "codemirror_mode": {
    "name": "ipython",
    "version": 3
   },
   "file_extension": ".py",
   "mimetype": "text/x-python",
   "name": "python",
   "nbconvert_exporter": "python",
   "pygments_lexer": "ipython3",
   "version": "3.8.8"
  }
 },
 "nbformat": 4,
 "nbformat_minor": 5
}
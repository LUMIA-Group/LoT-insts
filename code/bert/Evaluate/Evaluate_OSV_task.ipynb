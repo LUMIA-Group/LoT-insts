{
 "cells": [
  {
   "cell_type": "markdown",
   "source": [
    "# Evaluate BERT for OSV "
   ],
   "metadata": {}
  },
  {
   "cell_type": "markdown",
   "source": [
    "## Label 1 indicates that the two institutions are the same, and label 0 indicates they are different"
   ],
   "metadata": {}
  },
  {
   "cell_type": "code",
   "execution_count": 1,
   "source": [
    "import torch\r\n",
    "import pickle\r\n",
    "import torch.nn as nn\r\n",
    "import torch.nn.functional as F\r\n",
    "import numpy as np\r\n",
    "from tqdm import tqdm\r\n",
    "from pprint import pprint\r\n",
    "from scipy.stats import entropy\r\n",
    "from sklearn.model_selection import train_test_split\r\n",
    "from sklearn.metrics import accuracy_score, f1_score, precision_score, recall_score, roc_curve\r\n",
    "from transformers import Trainer, TrainingArguments\r\n",
    "from transformers import BertTokenizer, BertTokenizerFast, BertForSequenceClassification\r\n",
    "from transformers import AutoTokenizer, AutoModelForSequenceClassification\r\n",
    "from utils.data_helper import read_mag_file\r\n",
    "from utils.lazydataset import LazyTextMAG_OSV_Dataset"
   ],
   "outputs": [],
   "metadata": {}
  },
  {
   "cell_type": "code",
   "execution_count": 2,
   "source": [
    "save_pkl_root = '/home/datamerge/ACL/Data/210422/pkl/'\r\n",
    "save_train_root = '/home/datamerge/ACL/Data/210422/train/'\r\n",
    "save_test_root = '/home/datamerge/ACL/Data/210422/test/'\r\n",
    "save_open_root = '/home/datamerge/ACL/Data/210422/open/'\r\n",
    "save_dev_root = '/home/datamerge/ACL/Data/210422/dev/'\r\n",
    "\r\n",
    "afid2nor = pickle.load(open(save_pkl_root+\"afid2nor.pkl\", \"rb\"))\r\n",
    "nor2afid = pickle.load(open(save_pkl_root+\"nor2afid.pkl\", \"rb\"))"
   ],
   "outputs": [],
   "metadata": {}
  },
  {
   "cell_type": "code",
   "execution_count": 3,
   "source": [
    "overall_mid2label_dict = { i: nor for i, (afid, nor) in enumerate(afid2nor.items())}\r\n",
    "overall_label2mid_dict = { v: k for k,v in overall_mid2label_dict.items()}"
   ],
   "outputs": [],
   "metadata": {}
  },
  {
   "cell_type": "code",
   "execution_count": null,
   "source": [],
   "outputs": [],
   "metadata": {}
  },
  {
   "cell_type": "code",
   "execution_count": 4,
   "source": [
    "nor2len_dict = pickle.load(open(save_pkl_root+'210422_nor2len_dict.pkl', 'rb'))\r\n",
    "\r\n",
    "train_mid2label_dict = pickle.load(open(save_pkl_root+'train_mid2label_dict.pkl', 'rb'))\r\n",
    "train_label2mid_dict = pickle.load(open(save_pkl_root+'train_label2mid_dict.pkl', 'rb'))\r\n",
    "\r\n",
    "overall_mid2label_dict = pickle.load(open(save_pkl_root+'overall_mid2label_dict.pkl', 'rb'))\r\n",
    "overall_label2mid_dict = pickle.load(open(save_pkl_root+'overall_label2mid_dict.pkl', 'rb'))\r\n",
    "\r\n",
    "train_mid2overall_mid = {train_id: overall_label2mid_dict[train_label]  for train_id, train_label in train_mid2label_dict.items()}"
   ],
   "outputs": [],
   "metadata": {}
  },
  {
   "cell_type": "code",
   "execution_count": 5,
   "source": [
    "dev_osv_filepath = save_dev_root+'dev_osv_simple.txt'\r\n",
    "test_osv_filepath = save_test_root+'test_osv_simple.txt'\r\n",
    "\r\n",
    "dev_osv_hard_filepath = save_dev_root+'dev_osv_hard.txt'\r\n",
    "test_osv_hard_filepath = save_test_root+'test_osv_hard.txt'"
   ],
   "outputs": [],
   "metadata": {}
  },
  {
   "cell_type": "code",
   "execution_count": 6,
   "source": [
    "tokenizer = BertTokenizerFast.from_pretrained('bert-base-uncased')\r\n",
    "\r\n",
    "dev_osv_dataset = LazyTextMAG_OSV_Dataset(tokenizer, dev_osv_filepath, overall_label2mid_dict)\r\n",
    "test_osv_dataset = LazyTextMAG_OSV_Dataset(tokenizer, test_osv_filepath, overall_label2mid_dict)\r\n",
    "\r\n",
    "dev_osv_hard_dataset = LazyTextMAG_OSV_Dataset(tokenizer, dev_osv_hard_filepath, overall_label2mid_dict)\r\n",
    "test_osv_hard_dataset = LazyTextMAG_OSV_Dataset(tokenizer, test_osv_hard_filepath, overall_label2mid_dict)"
   ],
   "outputs": [],
   "metadata": {}
  },
  {
   "cell_type": "code",
   "execution_count": 7,
   "source": [
    "device = torch.device('cuda:0') if torch.cuda.is_available() else torch.device('cpu')\r\n",
    "\r\n",
    "class BertForAffiliationNameNormalization(torch.nn.Module):\r\n",
    "    \r\n",
    "    def __init__(self, num_of_classes):\r\n",
    "        super(BertForAffiliationNameNormalization, self).__init__()\r\n",
    "        self.num_of_classes = num_of_classes\r\n",
    "        self.bert = BertModel.from_pretrained('bert-base-uncased').to(device)\r\n",
    "        self.dropout = nn.Dropout(p=0.1, inplace=False).to(device)\r\n",
    "        self.classifier = nn.Linear(self.bert.config.hidden_size, self.num_of_classes, bias=True).to(device)\r\n",
    "        \r\n",
    "        \r\n",
    "    def forward(self, input_ids, attention_mask):\r\n",
    "        pooled_out = self.bert(input_ids, attention_mask=attention_mask)\r\n",
    "        pooled_out = self.dropout(pooled_out[1])\r\n",
    "        logits = self.classifier(pooled_out)\r\n",
    "        \r\n",
    "        return logits"
   ],
   "outputs": [],
   "metadata": {}
  },
  {
   "cell_type": "code",
   "execution_count": 8,
   "source": [
    "model = torch.load('./checkpoint_rs3/epoch_16_bert.pkl')\r\n",
    "\r\n",
    "if isinstance(model,torch.nn.DataParallel):\r\n",
    "    model = model.module\r\n",
    "\r\n",
    "model = model.to(torch.device(\"cuda:0\"))"
   ],
   "outputs": [],
   "metadata": {}
  },
  {
   "cell_type": "code",
   "execution_count": 9,
   "source": [
    "def js_divergence(p, q):\r\n",
    "    m = (p + q) / 2\r\n",
    "    js = entropy(p, m, axis=-1) / 2 + entropy(q, m, axis=-1) / 2\r\n",
    "    return js"
   ],
   "outputs": [],
   "metadata": {}
  },
  {
   "cell_type": "code",
   "execution_count": null,
   "source": [],
   "outputs": [],
   "metadata": {}
  },
  {
   "cell_type": "code",
   "execution_count": 10,
   "source": [
    "def report_osv(true, pred):\r\n",
    "    return accuracy_score(true, pred)"
   ],
   "outputs": [],
   "metadata": {}
  },
  {
   "cell_type": "code",
   "execution_count": 11,
   "source": [
    "def evaluate_osv(model, dataset, nor2len_dict, overall_mid2label_dict, threshold):\r\n",
    "    model.eval()\r\n",
    "    device = torch.device('cuda:0') if torch.cuda.is_available() else torch.device('cpu')\r\n",
    "    \r\n",
    "    test_dataset = dataset\r\n",
    "    loader = torch.utils.data.DataLoader(test_dataset, batch_size=32)\r\n",
    "    \r\n",
    "    i = 0\r\n",
    "    results = []\r\n",
    "    labels = []\r\n",
    "    for batch in tqdm(loader):\r\n",
    "        first_input_ids = torch.cat([i.reshape(1,-1) for i in batch['first_encodings']['input_ids']], dim=0).to(device)\r\n",
    "        first_attention_mask = torch.cat([i.reshape(1,-1) for i in batch['first_encodings']['attention_mask']], dim=0).to(device)\r\n",
    "        \r\n",
    "        second_input_ids = torch.cat([i.reshape(1,-1) for i in batch['second_encodings']['input_ids']], dim=0).to(device)\r\n",
    "        second_attention_mask = torch.cat([i.reshape(1,-1) for i in batch['second_encodings']['attention_mask']], dim=0).to(device)        \r\n",
    "        \r\n",
    "        label = batch['label'].to(device)\r\n",
    "        labels.append(label.to(torch.device('cpu')))\r\n",
    "        \r\n",
    "        first_logits = model(first_input_ids, attention_mask=first_attention_mask)\r\n",
    "        first_probs = F.softmax(first_logits, dim=1).to(torch.device('cpu'))\r\n",
    "        \r\n",
    "        second_logits = model(second_input_ids, attention_mask=second_attention_mask)\r\n",
    "        second_probs = F.softmax(second_logits, dim=1).to(torch.device('cpu'))\r\n",
    "        \r\n",
    "        for i in range(first_probs.shape[0]):\r\n",
    "            first_prob, second_prob = first_probs[i, :].detach().numpy(), second_probs[i, :].detach().numpy()\r\n",
    "            result = js_divergence(first_prob, second_prob)\r\n",
    "            results.append(result)\r\n",
    "        \r\n",
    "    results = np.array(results)\r\n",
    "    judgements = results < threshold\r\n",
    "    labels = torch.cat(labels).numpy()\r\n",
    "    \r\n",
    "    acc = report_osv(labels, judgements)\r\n",
    "        \r\n",
    "    return acc"
   ],
   "outputs": [],
   "metadata": {
    "tags": []
   }
  },
  {
   "cell_type": "code",
   "execution_count": 12,
   "source": [
    "for num in range(0, 105, 5):\r\n",
    "    threshold = num/100.0\r\n",
    "    results = evaluate_osv(model, dev_osv_dataset, nor2len_dict, overall_mid2label_dict, threshold)\r\n",
    "    print(\"threshold: \", threshold, \"\\t\\tresults: \", results)"
   ],
   "outputs": [
    {
     "output_type": "stream",
     "name": "stderr",
     "text": [
      "100%|██████████| 188/188 [00:28<00:00,  6.49it/s]\n",
      "  1%|          | 1/188 [00:00<00:25,  7.44it/s]"
     ]
    },
    {
     "output_type": "stream",
     "name": "stdout",
     "text": [
      "threshold:  0.0 \t\tresults:  0.5\n"
     ]
    },
    {
     "output_type": "stream",
     "name": "stderr",
     "text": [
      "100%|██████████| 188/188 [00:26<00:00,  7.03it/s]\n",
      "  1%|          | 1/188 [00:00<00:29,  6.35it/s]"
     ]
    },
    {
     "output_type": "stream",
     "name": "stdout",
     "text": [
      "threshold:  0.05 \t\tresults:  0.5443037974683544\n"
     ]
    },
    {
     "output_type": "stream",
     "name": "stderr",
     "text": [
      "100%|██████████| 188/188 [00:26<00:00,  7.18it/s]\n",
      "  1%|          | 1/188 [00:00<00:24,  7.60it/s]"
     ]
    },
    {
     "output_type": "stream",
     "name": "stdout",
     "text": [
      "threshold:  0.1 \t\tresults:  0.5581279147235176\n"
     ]
    },
    {
     "output_type": "stream",
     "name": "stderr",
     "text": [
      "100%|██████████| 188/188 [00:26<00:00,  7.14it/s]\n",
      "  1%|          | 1/188 [00:00<00:28,  6.67it/s]"
     ]
    },
    {
     "output_type": "stream",
     "name": "stdout",
     "text": [
      "threshold:  0.15 \t\tresults:  0.5691205862758161\n"
     ]
    },
    {
     "output_type": "stream",
     "name": "stderr",
     "text": [
      "100%|██████████| 188/188 [00:26<00:00,  7.09it/s]\n",
      "  1%|          | 1/188 [00:00<00:24,  7.75it/s]"
     ]
    },
    {
     "output_type": "stream",
     "name": "stdout",
     "text": [
      "threshold:  0.2 \t\tresults:  0.5801132578281146\n"
     ]
    },
    {
     "output_type": "stream",
     "name": "stderr",
     "text": [
      "100%|██████████| 188/188 [00:26<00:00,  7.14it/s]\n",
      "  1%|          | 1/188 [00:00<00:24,  7.57it/s]"
     ]
    },
    {
     "output_type": "stream",
     "name": "stdout",
     "text": [
      "threshold:  0.25 \t\tresults:  0.5919387075283145\n"
     ]
    },
    {
     "output_type": "stream",
     "name": "stderr",
     "text": [
      "100%|██████████| 188/188 [00:25<00:00,  7.31it/s]\n",
      "  1%|          | 1/188 [00:00<00:23,  7.79it/s]"
     ]
    },
    {
     "output_type": "stream",
     "name": "stdout",
     "text": [
      "threshold:  0.3 \t\tresults:  0.600599600266489\n"
     ]
    },
    {
     "output_type": "stream",
     "name": "stderr",
     "text": [
      "100%|██████████| 188/188 [00:25<00:00,  7.24it/s]\n",
      "  1%|          | 1/188 [00:00<00:24,  7.75it/s]"
     ]
    },
    {
     "output_type": "stream",
     "name": "stdout",
     "text": [
      "threshold:  0.35 \t\tresults:  0.6102598267821452\n"
     ]
    },
    {
     "output_type": "stream",
     "name": "stderr",
     "text": [
      "100%|██████████| 188/188 [00:27<00:00,  6.94it/s]\n",
      "  1%|          | 1/188 [00:00<00:24,  7.66it/s]"
     ]
    },
    {
     "output_type": "stream",
     "name": "stdout",
     "text": [
      "threshold:  0.4 \t\tresults:  0.6209193870752832\n"
     ]
    },
    {
     "output_type": "stream",
     "name": "stderr",
     "text": [
      "100%|██████████| 188/188 [00:27<00:00,  6.88it/s]\n",
      "  1%|          | 1/188 [00:00<00:27,  6.76it/s]"
     ]
    },
    {
     "output_type": "stream",
     "name": "stdout",
     "text": [
      "threshold:  0.45 \t\tresults:  0.6329113924050633\n"
     ]
    },
    {
     "output_type": "stream",
     "name": "stderr",
     "text": [
      "100%|██████████| 188/188 [00:27<00:00,  6.91it/s]\n",
      "  0%|          | 0/188 [00:00<?, ?it/s]"
     ]
    },
    {
     "output_type": "stream",
     "name": "stdout",
     "text": [
      "threshold:  0.5 \t\tresults:  0.6435709526982012\n"
     ]
    },
    {
     "output_type": "stream",
     "name": "stderr",
     "text": [
      "100%|██████████| 188/188 [00:26<00:00,  7.14it/s]\n",
      "  1%|          | 1/188 [00:00<00:24,  7.65it/s]"
     ]
    },
    {
     "output_type": "stream",
     "name": "stdout",
     "text": [
      "threshold:  0.55 \t\tresults:  0.6627248500999334\n"
     ]
    },
    {
     "output_type": "stream",
     "name": "stderr",
     "text": [
      "100%|██████████| 188/188 [00:24<00:00,  7.53it/s]\n",
      "  1%|          | 1/188 [00:00<00:24,  7.71it/s]"
     ]
    },
    {
     "output_type": "stream",
     "name": "stdout",
     "text": [
      "threshold:  0.6 \t\tresults:  0.685709526982012\n"
     ]
    },
    {
     "output_type": "stream",
     "name": "stderr",
     "text": [
      "100%|██████████| 188/188 [00:25<00:00,  7.29it/s]\n",
      "  1%|          | 1/188 [00:00<00:24,  7.53it/s]"
     ]
    },
    {
     "output_type": "stream",
     "name": "stdout",
     "text": [
      "threshold:  0.65 \t\tresults:  0.730346435709527\n"
     ]
    },
    {
     "output_type": "stream",
     "name": "stderr",
     "text": [
      "100%|██████████| 188/188 [00:25<00:00,  7.25it/s]\n",
      "  1%|          | 1/188 [00:00<00:24,  7.57it/s]"
     ]
    },
    {
     "output_type": "stream",
     "name": "stdout",
     "text": [
      "threshold:  0.7 \t\tresults:  0.5\n"
     ]
    },
    {
     "output_type": "stream",
     "name": "stderr",
     "text": [
      "100%|██████████| 188/188 [00:26<00:00,  7.23it/s]\n",
      "  1%|          | 1/188 [00:00<00:26,  7.05it/s]"
     ]
    },
    {
     "output_type": "stream",
     "name": "stdout",
     "text": [
      "threshold:  0.75 \t\tresults:  0.5\n"
     ]
    },
    {
     "output_type": "stream",
     "name": "stderr",
     "text": [
      "100%|██████████| 188/188 [00:25<00:00,  7.25it/s]\n",
      "  1%|          | 1/188 [00:00<00:26,  7.16it/s]"
     ]
    },
    {
     "output_type": "stream",
     "name": "stdout",
     "text": [
      "threshold:  0.8 \t\tresults:  0.5\n"
     ]
    },
    {
     "output_type": "stream",
     "name": "stderr",
     "text": [
      "100%|██████████| 188/188 [00:25<00:00,  7.49it/s]\n",
      "  1%|          | 1/188 [00:00<00:27,  6.89it/s]"
     ]
    },
    {
     "output_type": "stream",
     "name": "stdout",
     "text": [
      "threshold:  0.85 \t\tresults:  0.5\n"
     ]
    },
    {
     "output_type": "stream",
     "name": "stderr",
     "text": [
      "100%|██████████| 188/188 [00:28<00:00,  6.58it/s]\n",
      "  1%|          | 1/188 [00:00<00:24,  7.73it/s]"
     ]
    },
    {
     "output_type": "stream",
     "name": "stdout",
     "text": [
      "threshold:  0.9 \t\tresults:  0.5\n"
     ]
    },
    {
     "output_type": "stream",
     "name": "stderr",
     "text": [
      "100%|██████████| 188/188 [00:25<00:00,  7.26it/s]\n",
      "  1%|          | 1/188 [00:00<00:37,  5.03it/s]"
     ]
    },
    {
     "output_type": "stream",
     "name": "stdout",
     "text": [
      "threshold:  0.95 \t\tresults:  0.5\n"
     ]
    },
    {
     "output_type": "stream",
     "name": "stderr",
     "text": [
      "100%|██████████| 188/188 [00:26<00:00,  7.12it/s]"
     ]
    },
    {
     "output_type": "stream",
     "name": "stdout",
     "text": [
      "threshold:  1.0 \t\tresults:  0.5\n"
     ]
    },
    {
     "output_type": "stream",
     "name": "stderr",
     "text": [
      "\n"
     ]
    }
   ],
   "metadata": {}
  },
  {
   "cell_type": "code",
   "execution_count": 13,
   "source": [
    "for num in range(60, 71, 1):\r\n",
    "    threshold = num/100.0\r\n",
    "    results = evaluate_osv(model, dev_osv_dataset, nor2len_dict, overall_mid2label_dict, threshold)\r\n",
    "    print(\"threshold: \", threshold, \"\\t\\tresults: \", results)"
   ],
   "outputs": [
    {
     "output_type": "stream",
     "name": "stderr",
     "text": [
      "100%|██████████| 188/188 [00:25<00:00,  7.24it/s]\n",
      "  0%|          | 0/188 [00:00<?, ?it/s]"
     ]
    },
    {
     "output_type": "stream",
     "name": "stdout",
     "text": [
      "threshold:  0.6 \t\tresults:  0.685709526982012\n"
     ]
    },
    {
     "output_type": "stream",
     "name": "stderr",
     "text": [
      "100%|██████████| 188/188 [00:27<00:00,  6.89it/s]\n",
      "  1%|          | 1/188 [00:00<00:27,  6.82it/s]"
     ]
    },
    {
     "output_type": "stream",
     "name": "stdout",
     "text": [
      "threshold:  0.61 \t\tresults:  0.6930379746835443\n"
     ]
    },
    {
     "output_type": "stream",
     "name": "stderr",
     "text": [
      "100%|██████████| 188/188 [00:26<00:00,  6.98it/s]\n",
      "  1%|          | 1/188 [00:00<00:29,  6.34it/s]"
     ]
    },
    {
     "output_type": "stream",
     "name": "stdout",
     "text": [
      "threshold:  0.62 \t\tresults:  0.6977015323117921\n"
     ]
    },
    {
     "output_type": "stream",
     "name": "stderr",
     "text": [
      "100%|██████████| 188/188 [00:25<00:00,  7.31it/s]\n",
      "  1%|          | 1/188 [00:00<00:30,  6.23it/s]"
     ]
    },
    {
     "output_type": "stream",
     "name": "stdout",
     "text": [
      "threshold:  0.63 \t\tresults:  0.7060293137908061\n"
     ]
    },
    {
     "output_type": "stream",
     "name": "stderr",
     "text": [
      "100%|██████████| 188/188 [00:27<00:00,  6.81it/s]\n",
      "  1%|          | 1/188 [00:00<00:27,  6.72it/s]"
     ]
    },
    {
     "output_type": "stream",
     "name": "stdout",
     "text": [
      "threshold:  0.64 \t\tresults:  0.7173550966022652\n"
     ]
    },
    {
     "output_type": "stream",
     "name": "stderr",
     "text": [
      "100%|██████████| 188/188 [00:25<00:00,  7.26it/s]\n",
      "  1%|          | 1/188 [00:00<00:25,  7.24it/s]"
     ]
    },
    {
     "output_type": "stream",
     "name": "stdout",
     "text": [
      "threshold:  0.65 \t\tresults:  0.730346435709527\n"
     ]
    },
    {
     "output_type": "stream",
     "name": "stderr",
     "text": [
      "100%|██████████| 188/188 [00:25<00:00,  7.24it/s]\n",
      "  1%|          | 1/188 [00:00<00:24,  7.73it/s]"
     ]
    },
    {
     "output_type": "stream",
     "name": "stdout",
     "text": [
      "threshold:  0.66 \t\tresults:  0.7383411059293804\n"
     ]
    },
    {
     "output_type": "stream",
     "name": "stderr",
     "text": [
      "100%|██████████| 188/188 [00:26<00:00,  7.13it/s]\n",
      "  1%|          | 1/188 [00:00<00:24,  7.60it/s]"
     ]
    },
    {
     "output_type": "stream",
     "name": "stdout",
     "text": [
      "threshold:  0.67 \t\tresults:  0.7426715522984677\n"
     ]
    },
    {
     "output_type": "stream",
     "name": "stderr",
     "text": [
      "100%|██████████| 188/188 [00:26<00:00,  7.18it/s]\n",
      "  1%|          | 1/188 [00:00<00:25,  7.36it/s]"
     ]
    },
    {
     "output_type": "stream",
     "name": "stdout",
     "text": [
      "threshold:  0.68 \t\tresults:  0.7380079946702198\n"
     ]
    },
    {
     "output_type": "stream",
     "name": "stderr",
     "text": [
      "100%|██████████| 188/188 [00:25<00:00,  7.27it/s]\n",
      "  1%|          | 1/188 [00:00<00:28,  6.58it/s]"
     ]
    },
    {
     "output_type": "stream",
     "name": "stdout",
     "text": [
      "threshold:  0.69 \t\tresults:  0.6795469686875416\n"
     ]
    },
    {
     "output_type": "stream",
     "name": "stderr",
     "text": [
      "100%|██████████| 188/188 [00:26<00:00,  7.19it/s]"
     ]
    },
    {
     "output_type": "stream",
     "name": "stdout",
     "text": [
      "threshold:  0.7 \t\tresults:  0.5\n"
     ]
    },
    {
     "output_type": "stream",
     "name": "stderr",
     "text": [
      "\n"
     ]
    }
   ],
   "metadata": {}
  },
  {
   "cell_type": "code",
   "execution_count": 14,
   "source": [
    "results = evaluate_osv(model, test_osv_dataset, nor2len_dict, overall_mid2label_dict, threshold=0.67)"
   ],
   "outputs": [
    {
     "output_type": "stream",
     "name": "stderr",
     "text": [
      "100%|██████████| 147/147 [00:21<00:00,  6.84it/s]\n"
     ]
    }
   ],
   "metadata": {}
  },
  {
   "cell_type": "code",
   "execution_count": 15,
   "source": [
    "print(results)"
   ],
   "outputs": [
    {
     "output_type": "stream",
     "name": "stdout",
     "text": [
      "0.7888888888888889\n"
     ]
    }
   ],
   "metadata": {}
  },
  {
   "cell_type": "code",
   "execution_count": null,
   "source": [],
   "outputs": [],
   "metadata": {}
  },
  {
   "cell_type": "code",
   "execution_count": null,
   "source": [],
   "outputs": [],
   "metadata": {}
  }
 ],
 "metadata": {
  "kernelspec": {
   "display_name": "Python 3",
   "language": "python",
   "name": "python3"
  },
  "language_info": {
   "codemirror_mode": {
    "name": "ipython",
    "version": 3
   },
   "file_extension": ".py",
   "mimetype": "text/x-python",
   "name": "python",
   "nbconvert_exporter": "python",
   "pygments_lexer": "ipython3",
   "version": "3.8.8"
  }
 },
 "nbformat": 4,
 "nbformat_minor": 5
}